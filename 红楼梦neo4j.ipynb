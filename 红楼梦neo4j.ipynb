{
 "cells": [
  {
   "cell_type": "code",
   "execution_count": null,
   "id": "69c68be4",
   "metadata": {},
   "outputs": [],
   "source": [
    "#-*- conding:utf-8 -*-\n",
    "import pandas as pd\n",
    "import numpy as np\n",
    "f = open(\"红楼梦_triples.csv\",encoding='utf-8')\n",
    "df = pd.read_csv(f)\n",
    "print(df['node'].value_counts())\n",
    "# print(df['node'].unique)\n",
    "a = df['node'].value_counts()\n",
    "# a.to_csv(\"node.csv\")\n",
    "print(type(a))\n",
    "# print(df['head'].unique)"
   ]
  },
  {
   "cell_type": "code",
   "execution_count": null,
   "id": "d6d567c7",
   "metadata": {},
   "outputs": [],
   "source": [
    "import pandas as pd\n",
    "import numpy as np\n",
    "from py2neo import Node,Relationship,Graph\n",
    "\n",
    "g = Graph(\"http://localhost:7474\",\n",
    "          username='**',\n",
    "          password='*******')\n",
    "\n",
    "g.run(\"MATCH (n) OPTIONAL MATCH (n)-[r]-()DELETE n,r\")\n",
    "n = open(\"./data/node.csv\",encoding='utf-8')\n",
    "r = open(\"./data/红楼梦_triples.csv\",encoding='utf-8')\n",
    "data01 = pd.read_csv(n)\n",
    "data02 = pd.read_csv(r)\n",
    "#建立节点\n",
    "for i in range(len(data01)):\n",
    "    temp= Node(\"person\",name=data01[\"node\"][i])\n",
    "    # g.create(temp)\n",
    "for i in range(len(data02)):\n",
    "    temp = Relationship(g.find_one(label=\"person\",property_key='name',property_value=data02[\"head\"][i]),data02['label'][i],\n",
    "                        g.find_one(label=\"person\", property_key='name', property_value=data02[\"tail\"][i]))\n",
    "    # g.create(temp)\n",
    "\n",
    "print(len(data))\n",
    "tus"
   ]
  }
 ],
 "metadata": {
  "kernelspec": {
   "display_name": "Python 3 (ipykernel)",
   "language": "python",
   "name": "python3"
  },
  "language_info": {
   "codemirror_mode": {
    "name": "ipython",
    "version": 3
   },
   "file_extension": ".py",
   "mimetype": "text/x-python",
   "name": "python",
   "nbconvert_exporter": "python",
   "pygments_lexer": "ipython3",
   "version": "3.9.13"
  }
 },
 "nbformat": 4,
 "nbformat_minor": 5
}
